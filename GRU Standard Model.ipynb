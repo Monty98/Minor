{
 "cells": [
  {
   "cell_type": "code",
   "execution_count": 74,
   "metadata": {},
   "outputs": [],
   "source": [
    "import numpy as np\n",
    "import tensorflow as tf\n",
    "import random as rn\n",
    "from keras.models import Sequential\n",
    "from keras.layers import Activation\n",
    "from keras.layers import LSTM\n",
    "from keras.layers import Dense, LSTM, Dropout, Activation\n",
    "from sklearn.preprocessing import MinMaxScaler\n",
    "import os\n",
    "import pandas as pd"
   ]
  },
  {
   "cell_type": "code",
   "execution_count": 75,
   "metadata": {},
   "outputs": [],
   "source": [
    "from keras.utils.vis_utils import plot_model\n",
    "\n",
    "import matplotlib.pyplot as plt\n",
    "%matplotlib inline\n",
    "\n",
    "os.environ['PYTHONHASHSEED'] = '0'\n",
    "\n",
    "np.random.seed(2017)  \n",
    "rn.seed(12345)\n",
    "\n",
    "session_conf = tf.ConfigProto(intra_op_parallelism_threads=1,\n",
    "                              inter_op_parallelism_threads=1, allow_soft_placement=True, device_count = {'CPU': 1})\n",
    "\n",
    "from keras import backend as K\n",
    "\n",
    "tf.set_random_seed(1234)\n",
    "\n",
    "sess = tf.Session(graph=tf.get_default_graph(), config=session_conf)\n",
    "K.set_session(sess)"
   ]
  },
  {
   "cell_type": "code",
   "execution_count": 76,
   "metadata": {},
   "outputs": [
    {
     "name": "stdout",
     "output_type": "stream",
     "text": [
      "         Date    Open    High     Low   Close  Adj Close   Volume\n",
      "0  1996-08-09  14.250  16.750  14.250  16.500  15.324463  1601500\n",
      "1  1996-08-12  16.500  16.750  16.375  16.500  15.324463   260900\n",
      "2  1996-08-13  16.500  16.750  16.375  16.375  15.208362   162800\n",
      "3  1996-08-14  16.375  16.625  16.375  16.375  15.208362    59500\n",
      "4  1996-08-15  16.625  16.625  16.375  16.625  15.440549    62300\n",
      "5  1996-08-16  16.375  16.625  16.375  16.375  15.208362    40600\n",
      "6  1996-08-19  16.375  16.750  16.375  16.750  15.556649   381500\n",
      "7  1996-08-20  16.750  17.250  16.500  17.250  16.021025   115000\n",
      "8  1996-08-21  17.250  17.625  17.000  17.625  16.369308   167600\n",
      "9  1996-08-22  17.625  17.875  17.375  17.875  16.601496    42400\n"
     ]
    }
   ],
   "source": [
    "xy = pd.read_csv('C:/Users/Prajjwal/Downloads/CSV.csv')\n",
    "print(xy.head(10))"
   ]
  },
  {
   "cell_type": "code",
   "execution_count": 77,
   "metadata": {},
   "outputs": [
    {
     "data": {
      "text/html": [
       "<div>\n",
       "<style scoped>\n",
       "    .dataframe tbody tr th:only-of-type {\n",
       "        vertical-align: middle;\n",
       "    }\n",
       "\n",
       "    .dataframe tbody tr th {\n",
       "        vertical-align: top;\n",
       "    }\n",
       "\n",
       "    .dataframe thead th {\n",
       "        text-align: right;\n",
       "    }\n",
       "</style>\n",
       "<table border=\"1\" class=\"dataframe\">\n",
       "  <thead>\n",
       "    <tr style=\"text-align: right;\">\n",
       "      <th></th>\n",
       "      <th>Open</th>\n",
       "      <th>High</th>\n",
       "      <th>Low</th>\n",
       "      <th>Close</th>\n",
       "      <th>Adj Close</th>\n",
       "      <th>Volume</th>\n",
       "    </tr>\n",
       "  </thead>\n",
       "  <tbody>\n",
       "    <tr>\n",
       "      <th>count</th>\n",
       "      <td>5672.000000</td>\n",
       "      <td>5672.000000</td>\n",
       "      <td>5672.000000</td>\n",
       "      <td>5672.000000</td>\n",
       "      <td>5672.000000</td>\n",
       "      <td>5.672000e+03</td>\n",
       "    </tr>\n",
       "    <tr>\n",
       "      <th>mean</th>\n",
       "      <td>11.837339</td>\n",
       "      <td>12.003313</td>\n",
       "      <td>11.669973</td>\n",
       "      <td>11.839539</td>\n",
       "      <td>11.262645</td>\n",
       "      <td>6.335628e+04</td>\n",
       "    </tr>\n",
       "    <tr>\n",
       "      <th>std</th>\n",
       "      <td>8.483014</td>\n",
       "      <td>8.567067</td>\n",
       "      <td>8.399875</td>\n",
       "      <td>8.481847</td>\n",
       "      <td>8.222966</td>\n",
       "      <td>8.749770e+04</td>\n",
       "    </tr>\n",
       "    <tr>\n",
       "      <th>min</th>\n",
       "      <td>1.187500</td>\n",
       "      <td>1.312500</td>\n",
       "      <td>1.062500</td>\n",
       "      <td>1.187500</td>\n",
       "      <td>1.102897</td>\n",
       "      <td>0.000000e+00</td>\n",
       "    </tr>\n",
       "    <tr>\n",
       "      <th>25%</th>\n",
       "      <td>4.750000</td>\n",
       "      <td>4.810000</td>\n",
       "      <td>4.670000</td>\n",
       "      <td>4.750000</td>\n",
       "      <td>4.411587</td>\n",
       "      <td>1.850000e+04</td>\n",
       "    </tr>\n",
       "    <tr>\n",
       "      <th>50%</th>\n",
       "      <td>7.370000</td>\n",
       "      <td>7.500000</td>\n",
       "      <td>7.210000</td>\n",
       "      <td>7.405000</td>\n",
       "      <td>6.943535</td>\n",
       "      <td>3.985000e+04</td>\n",
       "    </tr>\n",
       "    <tr>\n",
       "      <th>75%</th>\n",
       "      <td>20.000000</td>\n",
       "      <td>20.250000</td>\n",
       "      <td>19.625000</td>\n",
       "      <td>20.000000</td>\n",
       "      <td>19.145096</td>\n",
       "      <td>7.900000e+04</td>\n",
       "    </tr>\n",
       "    <tr>\n",
       "      <th>max</th>\n",
       "      <td>29.000000</td>\n",
       "      <td>29.250000</td>\n",
       "      <td>28.840000</td>\n",
       "      <td>29.000000</td>\n",
       "      <td>28.184065</td>\n",
       "      <td>2.073400e+06</td>\n",
       "    </tr>\n",
       "  </tbody>\n",
       "</table>\n",
       "</div>"
      ],
      "text/plain": [
       "              Open         High          Low        Close    Adj Close  \\\n",
       "count  5672.000000  5672.000000  5672.000000  5672.000000  5672.000000   \n",
       "mean     11.837339    12.003313    11.669973    11.839539    11.262645   \n",
       "std       8.483014     8.567067     8.399875     8.481847     8.222966   \n",
       "min       1.187500     1.312500     1.062500     1.187500     1.102897   \n",
       "25%       4.750000     4.810000     4.670000     4.750000     4.411587   \n",
       "50%       7.370000     7.500000     7.210000     7.405000     6.943535   \n",
       "75%      20.000000    20.250000    19.625000    20.000000    19.145096   \n",
       "max      29.000000    29.250000    28.840000    29.000000    28.184065   \n",
       "\n",
       "             Volume  \n",
       "count  5.672000e+03  \n",
       "mean   6.335628e+04  \n",
       "std    8.749770e+04  \n",
       "min    0.000000e+00  \n",
       "25%    1.850000e+04  \n",
       "50%    3.985000e+04  \n",
       "75%    7.900000e+04  \n",
       "max    2.073400e+06  "
      ]
     },
     "execution_count": 77,
     "metadata": {},
     "output_type": "execute_result"
    }
   ],
   "source": [
    "xy.describe()"
   ]
  },
  {
   "cell_type": "code",
   "execution_count": 78,
   "metadata": {},
   "outputs": [
    {
     "name": "stdout",
     "output_type": "stream",
     "text": [
      "(5672, 7)\n"
     ]
    }
   ],
   "source": [
    "print(xy.shape)\n",
    "#xy=xy.drop(['Unnamed: 0'], axis=1)"
   ]
  },
  {
   "cell_type": "code",
   "execution_count": 79,
   "metadata": {},
   "outputs": [
    {
     "data": {
      "text/plain": [
       "[<matplotlib.lines.Line2D at 0x19eaa649160>]"
      ]
     },
     "execution_count": 79,
     "metadata": {},
     "output_type": "execute_result"
    },
    {
     "data": {
      "image/png": "[encoded data removed]",
      "text/plain": [
       "<Figure size 432x288 with 1 Axes>"
      ]
     },
     "metadata": {
      "needs_background": "light"
     },
     "output_type": "display_data"
    }
   ],
   "source": [
    "dataset=xy['Close']\n",
    "plt.figure()\n",
    "plt.plot(xy['Close'])"
   ]
  },
  {
   "cell_type": "code",
   "execution_count": 80,
   "metadata": {},
   "outputs": [
    {
     "name": "stdout",
     "output_type": "stream",
     "text": [
      "0       16.500000\n",
      "1       16.500000\n",
      "2       16.375000\n",
      "3       16.375000\n",
      "4       16.625000\n",
      "5       16.375000\n",
      "6       16.750000\n",
      "7       17.250000\n",
      "8       17.625000\n",
      "9       17.875000\n",
      "10      18.750000\n",
      "11      19.125000\n",
      "12      19.500000\n",
      "13      19.000000\n",
      "14      18.500000\n",
      "15      18.250000\n",
      "16      17.750000\n",
      "17      18.250000\n",
      "18      17.625000\n",
      "19      17.750000\n",
      "20      18.000000\n",
      "21      18.125000\n",
      "22      18.000000\n",
      "23      18.375000\n",
      "24      18.750000\n",
      "25      19.625000\n",
      "26      20.750000\n",
      "27      22.750000\n",
      "28      21.500000\n",
      "29      19.500000\n",
      "          ...    \n",
      "5642    16.639999\n",
      "5643    16.980000\n",
      "5644    16.860001\n",
      "5645    16.990000\n",
      "5646    17.000000\n",
      "5647    19.260000\n",
      "5648    19.629999\n",
      "5649    19.680000\n",
      "5650    19.660000\n",
      "5651    19.750000\n",
      "5652    19.430000\n",
      "5653    19.680000\n",
      "5654    19.709999\n",
      "5655    19.610001\n",
      "5656    19.450001\n",
      "5657    19.709999\n",
      "5658    19.740000\n",
      "5659    19.750000\n",
      "5660    19.410000\n",
      "5661    19.290001\n",
      "5662    18.740000\n",
      "5663    18.920000\n",
      "5664    19.379999\n",
      "5665    19.410000\n",
      "5666    19.129999\n",
      "5667    19.590000\n",
      "5668    19.549999\n",
      "5669    19.920000\n",
      "5670    20.190001\n",
      "5671    21.000000\n",
      "Name: Close, Length: 5672, dtype: float64\n"
     ]
    }
   ],
   "source": [
    "print(dataset)"
   ]
  },
  {
   "cell_type": "code",
   "execution_count": 81,
   "metadata": {},
   "outputs": [
    {
     "name": "stdout",
     "output_type": "stream",
     "text": [
      "0       16.500000\n",
      "1       16.500000\n",
      "2       16.375000\n",
      "3       16.375000\n",
      "4       16.625000\n",
      "5       16.375000\n",
      "6       16.750000\n",
      "7       17.250000\n",
      "8       17.625000\n",
      "9       17.875000\n",
      "10      18.750000\n",
      "11      19.125000\n",
      "12      19.500000\n",
      "13      19.000000\n",
      "14      18.500000\n",
      "15      18.250000\n",
      "16      17.750000\n",
      "17      18.250000\n",
      "18      17.625000\n",
      "19      17.750000\n",
      "20      18.000000\n",
      "21      18.125000\n",
      "22      18.000000\n",
      "23      18.375000\n",
      "24      18.750000\n",
      "25      19.625000\n",
      "26      20.750000\n",
      "27      22.750000\n",
      "28      21.500000\n",
      "29      19.500000\n",
      "          ...    \n",
      "5642    16.639999\n",
      "5643    16.980000\n",
      "5644    16.860001\n",
      "5645    16.990000\n",
      "5646    17.000000\n",
      "5647    19.260000\n",
      "5648    19.629999\n",
      "5649    19.680000\n",
      "5650    19.660000\n",
      "5651    19.750000\n",
      "5652    19.430000\n",
      "5653    19.680000\n",
      "5654    19.709999\n",
      "5655    19.610001\n",
      "5656    19.450001\n",
      "5657    19.709999\n",
      "5658    19.740000\n",
      "5659    19.750000\n",
      "5660    19.410000\n",
      "5661    19.290001\n",
      "5662    18.740000\n",
      "5663    18.920000\n",
      "5664    19.379999\n",
      "5665    19.410000\n",
      "5666    19.129999\n",
      "5667    19.590000\n",
      "5668    19.549999\n",
      "5669    19.920000\n",
      "5670    20.190001\n",
      "5671    21.000000\n",
      "Name: Close, Length: 5672, dtype: float64\n"
     ]
    }
   ],
   "source": [
    "print(dataset)"
   ]
  },
  {
   "cell_type": "code",
   "execution_count": 82,
   "metadata": {},
   "outputs": [],
   "source": [
    "dataset = np.asarray(dataset)\n",
    "dataset = np.reshape(dataset,(5672,1))"
   ]
  },
  {
   "cell_type": "code",
   "execution_count": 83,
   "metadata": {},
   "outputs": [
    {
     "name": "stdout",
     "output_type": "stream",
     "text": [
      "[[16.5     ]\n",
      " [16.5     ]\n",
      " [16.375   ]\n",
      " ...\n",
      " [19.92    ]\n",
      " [20.190001]\n",
      " [21.      ]]\n"
     ]
    }
   ],
   "source": [
    "print(dataset)"
   ]
  },
  {
   "cell_type": "code",
   "execution_count": 84,
   "metadata": {},
   "outputs": [],
   "source": [
    "scaler2 = MinMaxScaler(feature_range=(0, 1))\n",
    "dataset = scaler2.fit_transform(dataset)"
   ]
  },
  {
   "cell_type": "code",
   "execution_count": 85,
   "metadata": {},
   "outputs": [
    {
     "data": {
      "text/plain": [
       "array([[0.5505618 ],\n",
       "       [0.5505618 ],\n",
       "       [0.54606742],\n",
       "       [0.54606742],\n",
       "       [0.55505618],\n",
       "       [0.54606742],\n",
       "       [0.55955056],\n",
       "       [0.57752809],\n",
       "       [0.59101124],\n",
       "       [0.6       ]])"
      ]
     },
     "execution_count": 85,
     "metadata": {},
     "output_type": "execute_result"
    }
   ],
   "source": [
    "dataset[:10]"
   ]
  },
  {
   "cell_type": "code",
   "execution_count": 86,
   "metadata": {},
   "outputs": [
    {
     "data": {
      "text/plain": [
       "array([0.5505618 , 0.5505618 , 0.54606742, 0.54606742, 0.55505618,\n",
       "       0.54606742, 0.55955056, 0.57752809, 0.59101124, 0.6       ])"
      ]
     },
     "execution_count": 86,
     "metadata": {},
     "output_type": "execute_result"
    }
   ],
   "source": [
    "np.array(dataset[:10,0])"
   ]
  },
  {
   "cell_type": "code",
   "execution_count": 87,
   "metadata": {},
   "outputs": [],
   "source": [
    "time_steps = 30\n",
    "final_data = []\n",
    "for i in range(len(dataset)-time_steps):\n",
    "    final_data.append((np.array(dataset[i:i+time_steps,0])))"
   ]
  },
  {
   "cell_type": "code",
   "execution_count": 104,
   "metadata": {},
   "outputs": [
    {
     "name": "stdout",
     "output_type": "stream",
     "text": [
      "[[0.5505618  0.5505618  0.54606742 ... 0.7752809  0.73033708 0.65842697]\n",
      " [0.5505618  0.54606742 0.54606742 ... 0.73033708 0.65842697 0.64044944]\n",
      " [0.54606742 0.54606742 0.55505618 ... 0.65842697 0.64044944 0.62696629]\n",
      " ...\n",
      " [0.53725839 0.55020225 0.5534382  ... 0.64512356 0.66166292 0.66022468]\n",
      " [0.55020225 0.5534382  0.55559547 ... 0.66166292 0.66022468 0.67352809]\n",
      " [0.5534382  0.55559547 0.56782022 ... 0.66022468 0.67352809 0.68323599]]\n"
     ]
    }
   ],
   "source": [
    "print(final_data)"
   ]
  },
  {
   "cell_type": "code",
   "execution_count": 106,
   "metadata": {},
   "outputs": [
    {
     "name": "stdout",
     "output_type": "stream",
     "text": [
      "(5642, 30)\n"
     ]
    }
   ],
   "source": [
    "final_data = np.array(final_data)\n",
    "print(np.shape(np.array(final_data)))"
   ]
  },
  {
   "cell_type": "code",
   "execution_count": 107,
   "metadata": {},
   "outputs": [],
   "source": [
    "trainX1,trainY1 = final_data[:4512,0:29],final_data[:4512,[29]]\n",
    "testX1,testY1 = final_data[4512:,0:29],final_data[4512:,[29]]"
   ]
  },
  {
   "cell_type": "code",
   "execution_count": 108,
   "metadata": {},
   "outputs": [
    {
     "data": {
      "text/plain": [
       "(4512, 29)"
      ]
     },
     "execution_count": 108,
     "metadata": {},
     "output_type": "execute_result"
    }
   ],
   "source": [
    "trainX1.shape"
   ]
  },
  {
   "cell_type": "code",
   "execution_count": 109,
   "metadata": {},
   "outputs": [
    {
     "data": {
      "text/plain": [
       "array([[0.5505618 , 0.5505618 , 0.54606742, ..., 0.70337079, 0.7752809 ,\n",
       "        0.73033708],\n",
       "       [0.5505618 , 0.54606742, 0.54606742, ..., 0.7752809 , 0.73033708,\n",
       "        0.65842697],\n",
       "       [0.54606742, 0.54606742, 0.55505618, ..., 0.73033708, 0.65842697,\n",
       "        0.64044944],\n",
       "       ...,\n",
       "       [0.54193258, 0.5512809 , 0.53977532, ..., 0.62570787, 0.62067419,\n",
       "        0.61923596],\n",
       "       [0.5512809 , 0.53977532, 0.53761794, ..., 0.62067419, 0.61923596,\n",
       "        0.63469663],\n",
       "       [0.53977532, 0.53761794, 0.53402251, ..., 0.61923596, 0.63469663,\n",
       "        0.62211236]])"
      ]
     },
     "execution_count": 109,
     "metadata": {},
     "output_type": "execute_result"
    }
   ],
   "source": [
    "trainX1"
   ]
  },
  {
   "cell_type": "code",
   "execution_count": 110,
   "metadata": {},
   "outputs": [
    {
     "data": {
      "text/plain": [
       "(4512, 1)"
      ]
     },
     "execution_count": 110,
     "metadata": {},
     "output_type": "execute_result"
    }
   ],
   "source": [
    "trainY1.shape"
   ]
  },
  {
   "cell_type": "code",
   "execution_count": 111,
   "metadata": {},
   "outputs": [
    {
     "data": {
      "text/plain": [
       "array([[0.65842697],\n",
       "       [0.64044944],\n",
       "       [0.62696629],\n",
       "       ...,\n",
       "       [0.63469663],\n",
       "       [0.62211236],\n",
       "       [0.6188764 ]])"
      ]
     },
     "execution_count": 111,
     "metadata": {},
     "output_type": "execute_result"
    }
   ],
   "source": [
    "trainY1"
   ]
  },
  {
   "cell_type": "code",
   "execution_count": 112,
   "metadata": {},
   "outputs": [
    {
     "data": {
      "text/plain": [
       "(1130, 29)"
      ]
     },
     "execution_count": 112,
     "metadata": {},
     "output_type": "execute_result"
    }
   ],
   "source": [
    "testX1.shape"
   ]
  },
  {
   "cell_type": "code",
   "execution_count": 113,
   "metadata": {},
   "outputs": [],
   "source": [
    "trainX1 = np.reshape(trainX1, (trainX1.shape[0], 1, trainX1.shape[1]))\n",
    "testX1 = np.reshape(testX1, (testX1.shape[0], 1, testX1.shape[1]))"
   ]
  },
  {
   "cell_type": "code",
   "execution_count": 114,
   "metadata": {},
   "outputs": [
    {
     "data": {
      "text/plain": [
       "(4512, 1, 29)"
      ]
     },
     "execution_count": 114,
     "metadata": {},
     "output_type": "execute_result"
    }
   ],
   "source": [
    "trainX1.shape"
   ]
  },
  {
   "cell_type": "code",
   "execution_count": 115,
   "metadata": {},
   "outputs": [
    {
     "data": {
      "text/plain": [
       "array([[[0.5505618 , 0.5505618 , 0.54606742, ..., 0.70337079,\n",
       "         0.7752809 , 0.73033708]],\n",
       "\n",
       "       [[0.5505618 , 0.54606742, 0.54606742, ..., 0.7752809 ,\n",
       "         0.73033708, 0.65842697]],\n",
       "\n",
       "       [[0.54606742, 0.54606742, 0.55505618, ..., 0.73033708,\n",
       "         0.65842697, 0.64044944]],\n",
       "\n",
       "       ...,\n",
       "\n",
       "       [[0.54193258, 0.5512809 , 0.53977532, ..., 0.62570787,\n",
       "         0.62067419, 0.61923596]],\n",
       "\n",
       "       [[0.5512809 , 0.53977532, 0.53761794, ..., 0.62067419,\n",
       "         0.61923596, 0.63469663]],\n",
       "\n",
       "       [[0.53977532, 0.53761794, 0.53402251, ..., 0.61923596,\n",
       "         0.63469663, 0.62211236]]])"
      ]
     },
     "execution_count": 115,
     "metadata": {},
     "output_type": "execute_result"
    }
   ],
   "source": [
    "trainX1"
   ]
  },
  {
   "cell_type": "code",
   "execution_count": 116,
   "metadata": {},
   "outputs": [],
   "source": [
    "from keras.layers import GRU\n",
    "from keras.optimizers import Adam,SGD\n",
    "from keras import optimizers\n",
    "from keras import regularizers"
   ]
  },
  {
   "cell_type": "code",
   "execution_count": 117,
   "metadata": {},
   "outputs": [],
   "source": [
    "import random\n",
    "random.seed(5)"
   ]
  },
  {
   "cell_type": "code",
   "execution_count": 118,
   "metadata": {},
   "outputs": [],
   "source": [
    "model = Sequential()\n",
    "look_back = 29"
   ]
  },
  {
   "cell_type": "code",
   "execution_count": 119,
   "metadata": {},
   "outputs": [],
   "source": [
    "model.add(GRU(29,input_shape = (1,look_back),kernel_regularizer = regularizers.l2(0.01),activity_regularizer\n",
    "               = regularizers.l1(0.01)))\n",
    "model.add(Dense(1))"
   ]
  },
  {
   "cell_type": "code",
   "execution_count": 120,
   "metadata": {},
   "outputs": [
    {
     "name": "stdout",
     "output_type": "stream",
     "text": [
      "Train on 4512 samples, validate on 1130 samples\n",
      "Epoch 1/10\n",
      " - 20s - loss: 0.0180 - mean_absolute_percentage_error: 6642.0740 - val_loss: 0.1001 - val_mean_absolute_percentage_error: 37.2483\n",
      "Epoch 2/10\n",
      " - 18s - loss: 0.0041 - mean_absolute_percentage_error: 6000.3108 - val_loss: 0.0090 - val_mean_absolute_percentage_error: 4.0906\n",
      "Epoch 3/10\n",
      " - 19s - loss: 0.0034 - mean_absolute_percentage_error: 7381.7164 - val_loss: 0.0070 - val_mean_absolute_percentage_error: 3.7216\n",
      "Epoch 4/10\n",
      " - 18s - loss: 0.0033 - mean_absolute_percentage_error: 5094.2698 - val_loss: 0.0066 - val_mean_absolute_percentage_error: 3.7248\n",
      "Epoch 5/10\n",
      " - 18s - loss: 0.0028 - mean_absolute_percentage_error: 4617.7585 - val_loss: 0.0133 - val_mean_absolute_percentage_error: 10.8866\n",
      "Epoch 6/10\n",
      " - 18s - loss: 0.0026 - mean_absolute_percentage_error: 4123.2278 - val_loss: 0.0051 - val_mean_absolute_percentage_error: 2.6196\n",
      "Epoch 7/10\n",
      " - 19s - loss: 0.0025 - mean_absolute_percentage_error: 7938.3059 - val_loss: 0.0219 - val_mean_absolute_percentage_error: 16.4833\n",
      "Epoch 8/10\n",
      " - 18s - loss: 0.0025 - mean_absolute_percentage_error: 4864.4037 - val_loss: 0.0237 - val_mean_absolute_percentage_error: 17.0802\n",
      "Epoch 9/10\n",
      " - 18s - loss: 0.0023 - mean_absolute_percentage_error: 5003.0688 - val_loss: 0.0103 - val_mean_absolute_percentage_error: 9.9414\n",
      "Epoch 10/10\n",
      " - 18s - loss: 0.0022 - mean_absolute_percentage_error: 6680.7287 - val_loss: 0.0049 - val_mean_absolute_percentage_error: 4.2555\n"
     ]
    }
   ],
   "source": [
    "model.compile(loss='mean_squared_error', optimizer='Adam',metrics=['mape'])\n",
    "history1 = model.fit(trainX1, trainY1, epochs=10,validation_data = (testX1,testY1), batch_size=1, verbose=2)"
   ]
  },
  {
   "cell_type": "code",
   "execution_count": 121,
   "metadata": {},
   "outputs": [
    {
     "data": {
      "image/png": "[encoded data removed]",
      "text/plain": [
       "<Figure size 432x288 with 1 Axes>"
      ]
     },
     "metadata": {
      "needs_background": "light"
     },
     "output_type": "display_data"
    }
   ],
   "source": [
    "plt.plot(history1.history['loss'])\n",
    "plt.plot(history1.history['val_loss'])\n",
    "plt.title('Model loss')\n",
    "plt.ylabel('loss')\n",
    "plt.xlabel('Epoch')\n",
    "plt.legend(['Train', 'Test'], loc='upper right')\n",
    "plt.show()"
   ]
  },
  {
   "cell_type": "code",
   "execution_count": 122,
   "metadata": {},
   "outputs": [],
   "source": [
    "from sklearn.metrics import mean_squared_error , r2_score"
   ]
  },
  {
   "cell_type": "code",
   "execution_count": 127,
   "metadata": {},
   "outputs": [],
   "source": [
    "trainPredict1 = model.predict(trainX1)"
   ]
  },
  {
   "cell_type": "code",
   "execution_count": 123,
   "metadata": {},
   "outputs": [],
   "source": [
    "testPredict1 = model.predict(testX1)"
   ]
  },
  {
   "cell_type": "code",
   "execution_count": 124,
   "metadata": {},
   "outputs": [
    {
     "data": {
      "text/plain": [
       "0.8197562337487763"
      ]
     },
     "execution_count": 124,
     "metadata": {},
     "output_type": "execute_result"
    }
   ],
   "source": [
    "r2_score(testPredict1,testY1)"
   ]
  },
  {
   "cell_type": "code",
   "execution_count": 125,
   "metadata": {},
   "outputs": [
    {
     "name": "stdout",
     "output_type": "stream",
     "text": [
      "MSE: 0.0016643389617884948\n",
      "RMSE: 0.04079631063942541\n"
     ]
    }
   ],
   "source": [
    "from sklearn.metrics import mean_squared_error\n",
    "from math import sqrt\n",
    "MSE1=mean_squared_error(testY1, testPredict1)\n",
    "print(\"MSE:\",MSE1)\n",
    "\n",
    "RMSE1=sqrt(MSE1)\n",
    "print(\"RMSE:\",RMSE1)"
   ]
  },
  {
   "cell_type": "code",
   "execution_count": 128,
   "metadata": {},
   "outputs": [],
   "source": [
    "trainPredict1 = scaler2.inverse_transform(trainPredict1)\n",
    "trainY1 = scaler2.inverse_transform(trainY1)\n",
    "testPredict1 = scaler2.inverse_transform(testPredict1)\n",
    "testY1 = scaler2.inverse_transform(testY1)"
   ]
  },
  {
   "cell_type": "code",
   "execution_count": 129,
   "metadata": {},
   "outputs": [
    {
     "data": {
      "image/png": "[encoded data removed]",
      "text/plain": [
       "<Figure size 432x288 with 1 Axes>"
      ]
     },
     "metadata": {
      "needs_background": "light"
     },
     "output_type": "display_data"
    }
   ],
   "source": [
    "plt.plot(trainY1)\n",
    "plt.plot(trainPredict1)\n",
    "plt.show()"
   ]
  },
  {
   "cell_type": "code",
   "execution_count": 130,
   "metadata": {},
   "outputs": [
    {
     "data": {
      "image/png": "[encoded data removed]",
      "text/plain": [
       "<Figure size 432x288 with 1 Axes>"
      ]
     },
     "metadata": {
      "needs_background": "light"
     },
     "output_type": "display_data"
    }
   ],
   "source": [
    "plt.plot(testY1)\n",
    "plt.plot(testPredict1)\n",
    "plt.show()"
   ]
  },
  {
   "cell_type": "code",
   "execution_count": null,
   "metadata": {},
   "outputs": [],
   "source": []
  }
 ],
 "metadata": {
  "kernelspec": {
   "display_name": "Python 3",
   "language": "python",
   "name": "python3"
  },
  "language_info": {
   "codemirror_mode": {
    "name": "ipython",
    "version": 3
   },
   "file_extension": ".py",
   "mimetype": "text/x-python",
   "name": "python",
   "nbconvert_exporter": "python",
   "pygments_lexer": "ipython3",
   "version": "3.6.7"
  }
 },
 "nbformat": 4,
 "nbformat_minor": 2
}
